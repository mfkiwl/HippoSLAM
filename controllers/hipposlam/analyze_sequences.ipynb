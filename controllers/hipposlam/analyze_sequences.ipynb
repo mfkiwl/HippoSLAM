{
 "cells": [
  {
   "cell_type": "code",
   "execution_count": 72,
   "metadata": {
    "collapsed": true,
    "ExecuteTime": {
     "end_time": "2023-12-14T12:16:03.814408800Z",
     "start_time": "2023-12-14T12:16:03.784331500Z"
    }
   },
   "outputs": [],
   "source": [
    "import numpy as np\n",
    "from hipposlam.utils import read_pickle\n",
    "import pandas as pd\n",
    "import matplotlib.pyplot as plt\n",
    "from os.path import join\n",
    "import os\n",
    "import matplotlib as mpl\n",
    "from matplotlib import cm\n",
    "from tqdm import tqdm"
   ]
  },
  {
   "cell_type": "code",
   "execution_count": 68,
   "outputs": [
    {
     "name": "stdout",
     "output_type": "stream",
     "text": [
      "Max x row  256\n"
     ]
    },
    {
     "data": {
      "text/plain": "             t         x         y         z         a  \\\n0          128 -3.913329  3.310060  0.053973  0.002249   \n1          256 -3.836468  3.310060  0.058338  0.001259   \n2          384 -3.759622  3.310060  0.058849  0.000492   \n3          512 -3.682803  3.310060  0.059057  0.000192   \n4          640 -3.605996  3.310060  0.059142  0.000075   \n...        ...       ...       ...       ...       ...   \n21287  2724864 -5.599639  4.517734  0.059199  0.298188   \n21288  2724992 -5.554484  4.507774  0.059200  0.313842   \n21289  2725120 -5.562627  4.515692  0.059201  0.399248   \n21290  2725248 -5.562693  4.512010  0.059204  0.484057   \n21291  2725376 -5.556243  4.508033  0.059202  0.533343   \n\n                                                   objID  \\\n0            [2780, 2934, 3011, 3088, 3358, 5585, 15179]   \n1            [2780, 2934, 3011, 3088, 3358, 5585, 15179]   \n2            [2780, 2934, 3011, 3088, 3358, 5585, 15179]   \n3            [2780, 2934, 3011, 3088, 3358, 5585, 15179]   \n4                   [2780, 2934, 3011, 3088, 3358, 5585]   \n...                                                  ...   \n21287  [252, 481, 2780, 2934, 3011, 3088, 3358, 4251,...   \n21288  [252, 481, 2780, 2934, 3011, 3088, 3358, 4251,...   \n21289  [252, 481, 2780, 2934, 3011, 3088, 3358, 4251,...   \n21290  [252, 481, 2780, 2934, 3011, 3088, 3165, 3358,...   \n21291  [252, 481, 2780, 2934, 3011, 3088, 3165, 3358,...   \n\n                                              objID_dist  \\\n0      [2780_4, 2934_2, 3011_2, 3088_4, 3358_1, 5585_...   \n1      [2780_4, 2934_2, 3011_2, 3088_4, 3358_1, 5585_...   \n2      [2780_4, 2934_1, 3011_2, 3088_4, 3358_0, 5585_...   \n3      [2780_4, 2934_1, 3011_2, 3088_4, 3358_0, 5585_...   \n4       [2780_4, 2934_1, 3011_2, 3088_4, 3358_0, 5585_5]   \n...                                                  ...   \n21287  [252_3, 481_3, 2780_5, 2934_2, 3011_3, 3088_5,...   \n21288  [252_3, 481_3, 2780_5, 2934_2, 3011_3, 3088_5,...   \n21289  [252_3, 481_3, 2780_5, 2934_2, 3011_3, 3088_5,...   \n21290  [252_3, 481_3, 2780_5, 2934_2, 3011_3, 3088_5,...   \n21291  [252_3, 481_3, 2780_5, 2934_2, 3011_3, 3088_5,...   \n\n                                                 f_sigma  \\\n0      {'2780_4': [1], '2934_2': [1], '3011_2': [1], ...   \n1      {'2780_4': [2], '2934_2': [2], '3011_2': [2], ...   \n2      {'2780_4': [3], '2934_2': [3], '3011_2': [3], ...   \n3      {'2780_4': [4], '2934_2': [4], '3011_2': [4], ...   \n4      {'2780_4': [5], '2934_2': [5], '3011_2': [5], ...   \n...                                                  ...   \n21287  {'2780_4': [], '2934_2': [1], '3011_2': [], '3...   \n21288  {'2780_4': [], '2934_2': [2], '3011_2': [], '3...   \n21289  {'2780_4': [], '2934_2': [3], '3011_2': [], '3...   \n21290  {'2780_4': [], '2934_2': [4], '3011_2': [], '3...   \n21291  {'2780_4': [], '2934_2': [5], '3011_2': [], '3...   \n\n                                                       X  X_Nrow  \n0      [[1, 1, 1, 1, 1, 0, 0, 0, 0, 0, 0, 0, 0, 0], [...       7  \n1      [[0, 1, 1, 1, 1, 1, 0, 0, 0, 0, 0, 0, 0, 0], [...       7  \n2      [[0, 0, 1, 1, 1, 1, 1, 0, 0, 0, 0, 0, 0, 0], [...       9  \n3      [[0, 0, 0, 1, 1, 1, 1, 1, 0, 0, 0, 0, 0, 0], [...       9  \n4      [[0, 0, 0, 0, 1, 1, 1, 1, 1, 0, 0, 0, 0, 0], [...       9  \n...                                                  ...     ...  \n21287  [[0, 0, 0, 0, 0, 0, 0, 0, 0, 0, 0, 0, 0, 0], [...     256  \n21288  [[0, 0, 0, 0, 0, 0, 0, 0, 0, 0, 0, 0, 0, 0], [...     256  \n21289  [[0, 0, 0, 0, 0, 0, 0, 0, 0, 0, 0, 0, 0, 0], [...     256  \n21290  [[0, 0, 0, 0, 0, 0, 0, 0, 0, 0, 0, 0, 0, 0], [...     256  \n21291  [[0, 0, 0, 0, 0, 0, 0, 0, 0, 0, 0, 0, 0, 0], [...     256  \n\n[21292 rows x 10 columns]",
      "text/html": "<div>\n<style scoped>\n    .dataframe tbody tr th:only-of-type {\n        vertical-align: middle;\n    }\n\n    .dataframe tbody tr th {\n        vertical-align: top;\n    }\n\n    .dataframe thead th {\n        text-align: right;\n    }\n</style>\n<table border=\"1\" class=\"dataframe\">\n  <thead>\n    <tr style=\"text-align: right;\">\n      <th></th>\n      <th>t</th>\n      <th>x</th>\n      <th>y</th>\n      <th>z</th>\n      <th>a</th>\n      <th>objID</th>\n      <th>objID_dist</th>\n      <th>f_sigma</th>\n      <th>X</th>\n      <th>X_Nrow</th>\n    </tr>\n  </thead>\n  <tbody>\n    <tr>\n      <th>0</th>\n      <td>128</td>\n      <td>-3.913329</td>\n      <td>3.310060</td>\n      <td>0.053973</td>\n      <td>0.002249</td>\n      <td>[2780, 2934, 3011, 3088, 3358, 5585, 15179]</td>\n      <td>[2780_4, 2934_2, 3011_2, 3088_4, 3358_1, 5585_...</td>\n      <td>{'2780_4': [1], '2934_2': [1], '3011_2': [1], ...</td>\n      <td>[[1, 1, 1, 1, 1, 0, 0, 0, 0, 0, 0, 0, 0, 0], [...</td>\n      <td>7</td>\n    </tr>\n    <tr>\n      <th>1</th>\n      <td>256</td>\n      <td>-3.836468</td>\n      <td>3.310060</td>\n      <td>0.058338</td>\n      <td>0.001259</td>\n      <td>[2780, 2934, 3011, 3088, 3358, 5585, 15179]</td>\n      <td>[2780_4, 2934_2, 3011_2, 3088_4, 3358_1, 5585_...</td>\n      <td>{'2780_4': [2], '2934_2': [2], '3011_2': [2], ...</td>\n      <td>[[0, 1, 1, 1, 1, 1, 0, 0, 0, 0, 0, 0, 0, 0], [...</td>\n      <td>7</td>\n    </tr>\n    <tr>\n      <th>2</th>\n      <td>384</td>\n      <td>-3.759622</td>\n      <td>3.310060</td>\n      <td>0.058849</td>\n      <td>0.000492</td>\n      <td>[2780, 2934, 3011, 3088, 3358, 5585, 15179]</td>\n      <td>[2780_4, 2934_1, 3011_2, 3088_4, 3358_0, 5585_...</td>\n      <td>{'2780_4': [3], '2934_2': [3], '3011_2': [3], ...</td>\n      <td>[[0, 0, 1, 1, 1, 1, 1, 0, 0, 0, 0, 0, 0, 0], [...</td>\n      <td>9</td>\n    </tr>\n    <tr>\n      <th>3</th>\n      <td>512</td>\n      <td>-3.682803</td>\n      <td>3.310060</td>\n      <td>0.059057</td>\n      <td>0.000192</td>\n      <td>[2780, 2934, 3011, 3088, 3358, 5585, 15179]</td>\n      <td>[2780_4, 2934_1, 3011_2, 3088_4, 3358_0, 5585_...</td>\n      <td>{'2780_4': [4], '2934_2': [4], '3011_2': [4], ...</td>\n      <td>[[0, 0, 0, 1, 1, 1, 1, 1, 0, 0, 0, 0, 0, 0], [...</td>\n      <td>9</td>\n    </tr>\n    <tr>\n      <th>4</th>\n      <td>640</td>\n      <td>-3.605996</td>\n      <td>3.310060</td>\n      <td>0.059142</td>\n      <td>0.000075</td>\n      <td>[2780, 2934, 3011, 3088, 3358, 5585]</td>\n      <td>[2780_4, 2934_1, 3011_2, 3088_4, 3358_0, 5585_5]</td>\n      <td>{'2780_4': [5], '2934_2': [5], '3011_2': [5], ...</td>\n      <td>[[0, 0, 0, 0, 1, 1, 1, 1, 1, 0, 0, 0, 0, 0], [...</td>\n      <td>9</td>\n    </tr>\n    <tr>\n      <th>...</th>\n      <td>...</td>\n      <td>...</td>\n      <td>...</td>\n      <td>...</td>\n      <td>...</td>\n      <td>...</td>\n      <td>...</td>\n      <td>...</td>\n      <td>...</td>\n      <td>...</td>\n    </tr>\n    <tr>\n      <th>21287</th>\n      <td>2724864</td>\n      <td>-5.599639</td>\n      <td>4.517734</td>\n      <td>0.059199</td>\n      <td>0.298188</td>\n      <td>[252, 481, 2780, 2934, 3011, 3088, 3358, 4251,...</td>\n      <td>[252_3, 481_3, 2780_5, 2934_2, 3011_3, 3088_5,...</td>\n      <td>{'2780_4': [], '2934_2': [1], '3011_2': [], '3...</td>\n      <td>[[0, 0, 0, 0, 0, 0, 0, 0, 0, 0, 0, 0, 0, 0], [...</td>\n      <td>256</td>\n    </tr>\n    <tr>\n      <th>21288</th>\n      <td>2724992</td>\n      <td>-5.554484</td>\n      <td>4.507774</td>\n      <td>0.059200</td>\n      <td>0.313842</td>\n      <td>[252, 481, 2780, 2934, 3011, 3088, 3358, 4251,...</td>\n      <td>[252_3, 481_3, 2780_5, 2934_2, 3011_3, 3088_5,...</td>\n      <td>{'2780_4': [], '2934_2': [2], '3011_2': [], '3...</td>\n      <td>[[0, 0, 0, 0, 0, 0, 0, 0, 0, 0, 0, 0, 0, 0], [...</td>\n      <td>256</td>\n    </tr>\n    <tr>\n      <th>21289</th>\n      <td>2725120</td>\n      <td>-5.562627</td>\n      <td>4.515692</td>\n      <td>0.059201</td>\n      <td>0.399248</td>\n      <td>[252, 481, 2780, 2934, 3011, 3088, 3358, 4251,...</td>\n      <td>[252_3, 481_3, 2780_5, 2934_2, 3011_3, 3088_5,...</td>\n      <td>{'2780_4': [], '2934_2': [3], '3011_2': [], '3...</td>\n      <td>[[0, 0, 0, 0, 0, 0, 0, 0, 0, 0, 0, 0, 0, 0], [...</td>\n      <td>256</td>\n    </tr>\n    <tr>\n      <th>21290</th>\n      <td>2725248</td>\n      <td>-5.562693</td>\n      <td>4.512010</td>\n      <td>0.059204</td>\n      <td>0.484057</td>\n      <td>[252, 481, 2780, 2934, 3011, 3088, 3165, 3358,...</td>\n      <td>[252_3, 481_3, 2780_5, 2934_2, 3011_3, 3088_5,...</td>\n      <td>{'2780_4': [], '2934_2': [4], '3011_2': [], '3...</td>\n      <td>[[0, 0, 0, 0, 0, 0, 0, 0, 0, 0, 0, 0, 0, 0], [...</td>\n      <td>256</td>\n    </tr>\n    <tr>\n      <th>21291</th>\n      <td>2725376</td>\n      <td>-5.556243</td>\n      <td>4.508033</td>\n      <td>0.059202</td>\n      <td>0.533343</td>\n      <td>[252, 481, 2780, 2934, 3011, 3088, 3165, 3358,...</td>\n      <td>[252_3, 481_3, 2780_5, 2934_2, 3011_3, 3088_5,...</td>\n      <td>{'2780_4': [], '2934_2': [5], '3011_2': [], '3...</td>\n      <td>[[0, 0, 0, 0, 0, 0, 0, 0, 0, 0, 0, 0, 0, 0], [...</td>\n      <td>256</td>\n    </tr>\n  </tbody>\n</table>\n<p>21292 rows × 10 columns</p>\n</div>"
     },
     "execution_count": 68,
     "metadata": {},
     "output_type": "execute_result"
    }
   ],
   "source": [
    "\n",
    "\n",
    "project_tag = 'avoidance_NoReObserve'\n",
    "data_dir = join('data', project_tag)\n",
    "plot_dir = join('plots', 'firing_fields')\n",
    "os.makedirs(plot_dir, exist_ok=True)\n",
    "trajdata = read_pickle(join(data_dir, 'traj.pickle'))\n",
    "metadata = read_pickle(join(data_dir, 'meta.pickle'))\n",
    "stored_f = metadata['stored_f']\n",
    "f_pos = metadata['fpos']\n",
    "\n",
    "\n",
    "trajdf = pd.DataFrame(trajdata)\n",
    "trajdf['X_Nrow'] = trajdf['X'].apply(lambda x : x.shape[0])\n",
    "print('Max x row ', trajdf['X_Nrow'].max())\n",
    "trajdf\n",
    "\n"
   ],
   "metadata": {
    "collapsed": false,
    "ExecuteTime": {
     "end_time": "2023-12-14T12:14:39.935024600Z",
     "start_time": "2023-12-14T12:14:34.891951200Z"
    }
   }
  },
  {
   "cell_type": "markdown",
   "source": [
    "# By Active F"
   ],
   "metadata": {
    "collapsed": false
   }
  },
  {
   "cell_type": "code",
   "execution_count": 69,
   "outputs": [],
   "source": [
    "norm = mpl.colors.Normalize(vmin=-np.pi, vmax=np.pi)\n",
    "cmap = cm.hsv"
   ],
   "metadata": {
    "collapsed": false,
    "ExecuteTime": {
     "end_time": "2023-12-14T12:14:39.999180800Z",
     "start_time": "2023-12-14T12:14:39.935024600Z"
    }
   }
  },
  {
   "cell_type": "code",
   "execution_count": 70,
   "outputs": [],
   "source": [
    "Num_Fnodes = trajdf['X_Nrow'].max()\n",
    "\n",
    "xdict = dict()\n",
    "ydict = dict()\n",
    "adict = dict()\n",
    "fposdict = dict()\n",
    "for i in range(trajdf.shape[0]):\n",
    "\n",
    "    Xmat = trajdf['X'][i]\n",
    "    x = trajdf['x'][i]\n",
    "    y = trajdf['y'][i]\n",
    "    a = trajdf['a'][i]\n",
    "    active_rowIDs = np.where(np.sum(Xmat, axis=1) > 0)[0]\n",
    "\n",
    "    for rowid in active_rowIDs:\n",
    "        nodekey = [str(k) for k, v in stored_f.items() if v == rowid][0]\n",
    "        fposdict[rowid] = f_pos[nodekey.split('_')[0]]\n",
    "\n",
    "\n",
    "        if rowid in xdict:\n",
    "            xdict[rowid].append(x)\n",
    "            ydict[rowid].append(y)\n",
    "            adict[rowid].append(a)\n",
    "\n",
    "        else:\n",
    "            xdict[rowid] = [x]\n",
    "            ydict[rowid] = [y]\n",
    "            adict[rowid] = [a]\n",
    "\n",
    "\n"
   ],
   "metadata": {
    "collapsed": false,
    "ExecuteTime": {
     "end_time": "2023-12-14T12:14:42.221811700Z",
     "start_time": "2023-12-14T12:14:39.968948900Z"
    }
   }
  },
  {
   "cell_type": "code",
   "execution_count": 71,
   "outputs": [],
   "source": [
    "plot_dir_byActiveF = join(plot_dir, 'ByActiveF')\n",
    "os.makedirs(plot_dir_byActiveF, exist_ok=True)\n",
    "\n",
    "np.random.seed(0)\n",
    "ivec = np.random.permutation(Num_Fnodes)\n",
    "for i in range(Num_Fnodes):\n",
    "    N = len(xdict[i])\n",
    "    frac = 1\n",
    "\n",
    "    nodekey = [str(k) for k, v in stored_f.items() if v == i][0]\n",
    "\n",
    "    ranvec = np.random.permutation(N)\n",
    "\n",
    "\n",
    "    x = np.array(xdict[i])[ranvec][:int(N*frac)]\n",
    "    y = np.array(ydict[i])[ranvec][:int(N*frac)]\n",
    "    a = np.array(adict[i])[ranvec][:int(N*frac)]\n",
    "    fpos = fposdict[i]\n",
    "\n",
    "    angvec = np.exp(1j * a)\n",
    "\n",
    "    fig, ax = plt.subplots(figsize=(14, 6), facecolor='w')\n",
    "\n",
    "    ax.scatter(fpos[0], fpos[1], marker='o', color='k')\n",
    "    ax.plot(trajdf.x, trajdf.y, color='gray', alpha=0.5)\n",
    "    im = ax.quiver(x, y, np.real(angvec), np.imag(angvec), color=cmap(norm(a)), scale=70, cmap='hsv')\n",
    "    cbar = plt.colorbar(im, ax=ax)\n",
    "    cbar.ax.set_yticks([0, 0.5, 1])\n",
    "    cbar.ax.set_yticklabels(['$-\\pi$', '0', '$\\pi$'])\n",
    "    cbar.ax.set_ylabel('Head direction (rad)')\n",
    "    ax.set_title('Node = %s'%(nodekey))\n",
    "    fig.tight_layout()\n",
    "    fig.savefig(join(plot_dir_byActiveF, '%s.png'%nodekey), dpi=200)\n",
    "    plt.close(fig)\n",
    "\n"
   ],
   "metadata": {
    "collapsed": false,
    "ExecuteTime": {
     "end_time": "2023-12-14T12:15:59.359276700Z",
     "start_time": "2023-12-14T12:14:42.229949500Z"
    }
   }
  },
  {
   "cell_type": "markdown",
   "source": [
    "# By sigma"
   ],
   "metadata": {
    "collapsed": false
   }
  },
  {
   "cell_type": "code",
   "execution_count": 73,
   "outputs": [],
   "source": [
    "max_sigma = 10\n",
    "min_sigma = 1\n",
    "\n",
    "norm = mpl.colors.Normalize(vmin=min_sigma, vmax=max_sigma)\n",
    "cmap = cm.jet"
   ],
   "metadata": {
    "collapsed": false,
    "ExecuteTime": {
     "end_time": "2023-12-14T12:16:25.183140200Z",
     "start_time": "2023-12-14T12:16:25.169505100Z"
    }
   }
  },
  {
   "cell_type": "code",
   "execution_count": 74,
   "outputs": [
    {
     "name": "stderr",
     "output_type": "stream",
     "text": [
      "100%|██████████| 21292/21292 [00:01<00:00, 12397.97it/s]\n"
     ]
    }
   ],
   "source": [
    "xdict = dict()\n",
    "ydict = dict()\n",
    "adict = dict()\n",
    "sigmadict = dict()\n",
    "fposdict = dict()\n",
    "\n",
    "for i in tqdm(range(trajdf.shape[0])):\n",
    "    f_sigma = trajdf['f_sigma'][i]\n",
    "\n",
    "    for nodekey in stored_f.keys():\n",
    "\n",
    "\n",
    "\n",
    "        if nodekey in f_sigma:\n",
    "\n",
    "            if nodekey not in xdict:\n",
    "                xdict[nodekey] = []\n",
    "                ydict[nodekey] = []\n",
    "                adict[nodekey] = []\n",
    "                sigmadict[nodekey] = []\n",
    "                nodepos = f_pos[nodekey.split('_')[0]]\n",
    "                fposdict[nodekey] = nodepos\n",
    "\n",
    "\n",
    "            sigma_list = f_sigma[nodekey]\n",
    "            for sigma in sigma_list:\n",
    "                x = trajdf['x'][i]\n",
    "                y = trajdf['y'][i]\n",
    "                a = trajdf['a'][i]\n",
    "                xdict[nodekey].append(x)\n",
    "                ydict[nodekey].append(y)\n",
    "                adict[nodekey].append(a)\n",
    "                sigmadict[nodekey].append(sigma)\n"
   ],
   "metadata": {
    "collapsed": false,
    "ExecuteTime": {
     "end_time": "2023-12-14T12:16:27.649363200Z",
     "start_time": "2023-12-14T12:16:25.869168500Z"
    }
   }
  },
  {
   "cell_type": "code",
   "execution_count": 81,
   "outputs": [
    {
     "name": "stderr",
     "output_type": "stream",
     "text": [
      "100%|██████████| 256/256 [01:28<00:00,  2.91it/s]\n"
     ]
    }
   ],
   "source": [
    "plot_dir_sigma = join(plot_dir, 'BySigma')\n",
    "os.makedirs(plot_dir_sigma, exist_ok=True)\n",
    "\n",
    "np.random.seed(0)\n",
    "ivec = np.random.permutation(Num_Fnodes)\n",
    "for nodekey in tqdm(stored_f.keys()):\n",
    "\n",
    "    N = len(xdict[nodekey])\n",
    "    if N < 1:\n",
    "        continue\n",
    "    frac = 1\n",
    "\n",
    "    ranvec = np.random.permutation(N)\n",
    "\n",
    "\n",
    "    x = np.array(xdict[nodekey])[ranvec][:int(N*frac)]\n",
    "    y = np.array(ydict[nodekey])[ranvec][:int(N*frac)]\n",
    "    a = np.array(adict[nodekey])[ranvec][:int(N*frac)]\n",
    "    sigma = np.array(sigmadict[nodekey])[ranvec][:int(N*frac)]\n",
    "    fpos = fposdict[nodekey]\n",
    "\n",
    "    angvec = np.exp(1j * a)\n",
    "\n",
    "    fig, ax = plt.subplots(figsize=(14, 6), facecolor='w')\n",
    "\n",
    "    ax.scatter(fpos[0], fpos[1], marker='o', color='k')\n",
    "    ax.plot(trajdf.x, trajdf.y, color='gray', alpha=0.5)\n",
    "    im = ax.quiver(x, y, np.real(angvec), np.imag(angvec), color=cmap(norm(sigma)), scale=70, cmap='hsv')\n",
    "    cbar = plt.colorbar(im, ax=ax)\n",
    "    cbar.ax.set_yticks(np.linspace(0, 1, 10))\n",
    "    cbar.ax.set_yticklabels(np.arange(1, 11, 1))\n",
    "    cbar.ax.set_ylabel('Sigma')\n",
    "    ax.set_title('Node = %s'%(nodekey))\n",
    "    fig.tight_layout()\n",
    "    fig.savefig(join(plot_dir_sigma, '%s.png'%nodekey), dpi=200)\n",
    "    plt.close(fig)\n",
    "\n"
   ],
   "metadata": {
    "collapsed": false,
    "ExecuteTime": {
     "end_time": "2023-12-14T12:42:20.782177700Z",
     "start_time": "2023-12-14T12:40:52.706778900Z"
    }
   }
  },
  {
   "cell_type": "code",
   "execution_count": 80,
   "outputs": [
    {
     "data": {
      "text/plain": "array([0. , 0.1, 0.2, 0.3, 0.4, 0.5, 0.6, 0.7, 0.8, 0.9, 1. ])"
     },
     "execution_count": 80,
     "metadata": {},
     "output_type": "execute_result"
    }
   ],
   "source": [
    "np.arange(0, 1.1, 0.1)"
   ],
   "metadata": {
    "collapsed": false,
    "ExecuteTime": {
     "end_time": "2023-12-14T12:39:29.090281100Z",
     "start_time": "2023-12-14T12:39:29.069983300Z"
    }
   }
  }
 ],
 "metadata": {
  "kernelspec": {
   "display_name": "Python 3",
   "language": "python",
   "name": "python3"
  },
  "language_info": {
   "codemirror_mode": {
    "name": "ipython",
    "version": 2
   },
   "file_extension": ".py",
   "mimetype": "text/x-python",
   "name": "python",
   "nbconvert_exporter": "python",
   "pygments_lexer": "ipython2",
   "version": "2.7.6"
  }
 },
 "nbformat": 4,
 "nbformat_minor": 0
}
