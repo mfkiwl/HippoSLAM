{
 "cells": [
  {
   "cell_type": "code",
   "execution_count": 1,
   "outputs": [],
   "source": [
    "import numpy as np\n",
    "from hipposlam.utils import read_pickle\n",
    "import pandas as pd\n",
    "import matplotlib.pyplot as plt\n",
    "from os.path import join\n",
    "import os\n",
    "import matplotlib as mpl\n",
    "from matplotlib import cm\n",
    "from tqdm import tqdm"
   ],
   "metadata": {
    "collapsed": false,
    "ExecuteTime": {
     "start_time": "2024-01-08T15:44:33.474653Z",
     "end_time": "2024-01-08T15:44:34.976814Z"
    }
   }
  },
  {
   "cell_type": "code",
   "execution_count": 2,
   "outputs": [
    {
     "name": "stdout",
     "output_type": "stream",
     "text": [
      "Max x row  196\n"
     ]
    },
    {
     "data": {
      "text/plain": "             t         x         y         z          rotx      roty  \\\n0          128  4.680020  2.807367  0.061624 -1.579231e-03 -0.001579   \n1          256  4.678977  2.754858  0.058151 -1.903525e-03 -0.001798   \n2          384  4.678577  2.701075  0.058773 -7.499675e-04 -0.000738   \n3          512  4.678619  2.646312  0.059026 -3.263218e-04 -0.000293   \n4          640  4.677918  2.591286  0.059130 -1.425992e-04 -0.000069   \n...        ...       ...       ...       ...           ...       ...   \n15338  1968384  4.108388 -0.634866  0.059201 -2.580587e-04  0.000066   \n15339  1968512  4.156990 -0.614649  0.059201 -2.533233e-04  0.000073   \n15340  1968640  4.205974 -0.593832  0.059201 -1.015182e-04  0.000090   \n15341  1968768  4.256237 -0.573071  0.059201  5.461929e-07  0.000191   \n15342  1968896  4.307002 -0.552334  0.059201  2.073108e-05  0.000133   \n\n           rotz      rota                                         objID  \\\n0     -0.999998  1.570826                                            []   \n1     -0.999997  1.580309             [2640, 5543, 15573, 15699, 17158]   \n2     -0.999999  1.594632             [2640, 5543, 15573, 15699, 17158]   \n3     -1.000000  1.613886              [2640, 2717, 5543, 15573, 17158]   \n4     -1.000000  1.635931  [1632, 1856, 2640, 2717, 5543, 15573, 17158]   \n...         ...       ...                                           ...   \n15338 -1.000000 -0.396684      [1856, 5543, 14472, 15573, 15615, 15797]   \n15339 -1.000000 -0.403152      [1856, 5543, 14472, 15573, 15615, 15797]   \n15340 -1.000000 -0.398917      [1856, 5543, 14472, 15573, 15615, 15797]   \n15341 -1.000000 -0.393958      [1856, 5543, 14472, 15573, 15615, 15797]   \n15342 -1.000000 -0.386810            [5543, 14472, 15573, 15615, 15797]   \n\n                                              objID_dist  \\\n0                                                     []   \n1            [2640_2, 5543_1, 15573_2, 15699_1, 17158_1]   \n2            [2640_2, 5543_1, 15573_2, 15699_1, 17158_1]   \n3             [2640_2, 2717_1, 5543_1, 15573_2, 17158_1]   \n4      [1632_2, 1856_2, 2640_2, 2717_1, 5543_1, 15573...   \n...                                                  ...   \n15338  [1856_1, 5543_1, 14472_1, 15573_1, 15615_1, 15...   \n15339  [1856_1, 5543_1, 14472_1, 15573_1, 15615_1, 15...   \n15340  [1856_1, 5543_1, 14472_1, 15573_1, 15615_1, 15...   \n15341  [1856_1, 5543_1, 14472_1, 15573_1, 15615_1, 15...   \n15342       [5543_1, 14472_1, 15573_1, 15615_1, 15797_0]   \n\n                                                 f_sigma  \\\n0                                                     {}   \n1      {'2640_2': [1], '5543_1': [1], '15573_2': [1],...   \n2      {'2640_2': [2], '5543_1': [2], '15573_2': [2],...   \n3      {'2640_2': [3], '5543_1': [3], '15573_2': [3],...   \n4      {'2640_2': [4], '5543_1': [4], '15573_2': [4],...   \n...                                                  ...   \n15338  {'2640_2': [], '5543_1': [], '15573_2': [], '1...   \n15339  {'2640_2': [], '5543_1': [], '15573_2': [], '1...   \n15340  {'2640_2': [], '5543_1': [], '15573_2': [], '1...   \n15341  {'2640_2': [], '5543_1': [], '15573_2': [], '1...   \n15342  {'2640_2': [], '5543_1': [], '15573_2': [], '1...   \n\n                                                       X  X_Nrow         a  \n0                                                     []       0 -1.570822  \n1      [[1, 1, 1, 1, 1, 0, 0, 0, 0, 0, 0, 0, 0, 0], [...       5 -1.580304  \n2      [[0, 1, 1, 1, 1, 1, 0, 0, 0, 0, 0, 0, 0, 0], [...       5 -1.594631  \n3      [[0, 0, 1, 1, 1, 1, 1, 0, 0, 0, 0, 0, 0, 0], [...       6 -1.613886  \n4      [[0, 0, 0, 1, 1, 1, 1, 1, 0, 0, 0, 0, 0, 0], [...       8 -1.635931  \n...                                                  ...     ...       ...  \n15338  [[0, 0, 0, 0, 0, 0, 0, 0, 0, 0, 0, 0, 0, 0], [...     196  0.396684  \n15339  [[0, 0, 0, 0, 0, 0, 0, 0, 0, 0, 0, 0, 0, 0], [...     196  0.403152  \n15340  [[0, 0, 0, 0, 0, 0, 0, 0, 0, 0, 0, 0, 0, 0], [...     196  0.398917  \n15341  [[0, 0, 0, 0, 0, 0, 0, 0, 0, 0, 0, 0, 0, 0], [...     196  0.393958  \n15342  [[0, 0, 0, 0, 0, 0, 0, 0, 0, 0, 0, 0, 0, 0], [...     196  0.386810  \n\n[15343 rows x 14 columns]",
      "text/html": "<div>\n<style scoped>\n    .dataframe tbody tr th:only-of-type {\n        vertical-align: middle;\n    }\n\n    .dataframe tbody tr th {\n        vertical-align: top;\n    }\n\n    .dataframe thead th {\n        text-align: right;\n    }\n</style>\n<table border=\"1\" class=\"dataframe\">\n  <thead>\n    <tr style=\"text-align: right;\">\n      <th></th>\n      <th>t</th>\n      <th>x</th>\n      <th>y</th>\n      <th>z</th>\n      <th>rotx</th>\n      <th>roty</th>\n      <th>rotz</th>\n      <th>rota</th>\n      <th>objID</th>\n      <th>objID_dist</th>\n      <th>f_sigma</th>\n      <th>X</th>\n      <th>X_Nrow</th>\n      <th>a</th>\n    </tr>\n  </thead>\n  <tbody>\n    <tr>\n      <th>0</th>\n      <td>128</td>\n      <td>4.680020</td>\n      <td>2.807367</td>\n      <td>0.061624</td>\n      <td>-1.579231e-03</td>\n      <td>-0.001579</td>\n      <td>-0.999998</td>\n      <td>1.570826</td>\n      <td>[]</td>\n      <td>[]</td>\n      <td>{}</td>\n      <td>[]</td>\n      <td>0</td>\n      <td>-1.570822</td>\n    </tr>\n    <tr>\n      <th>1</th>\n      <td>256</td>\n      <td>4.678977</td>\n      <td>2.754858</td>\n      <td>0.058151</td>\n      <td>-1.903525e-03</td>\n      <td>-0.001798</td>\n      <td>-0.999997</td>\n      <td>1.580309</td>\n      <td>[2640, 5543, 15573, 15699, 17158]</td>\n      <td>[2640_2, 5543_1, 15573_2, 15699_1, 17158_1]</td>\n      <td>{'2640_2': [1], '5543_1': [1], '15573_2': [1],...</td>\n      <td>[[1, 1, 1, 1, 1, 0, 0, 0, 0, 0, 0, 0, 0, 0], [...</td>\n      <td>5</td>\n      <td>-1.580304</td>\n    </tr>\n    <tr>\n      <th>2</th>\n      <td>384</td>\n      <td>4.678577</td>\n      <td>2.701075</td>\n      <td>0.058773</td>\n      <td>-7.499675e-04</td>\n      <td>-0.000738</td>\n      <td>-0.999999</td>\n      <td>1.594632</td>\n      <td>[2640, 5543, 15573, 15699, 17158]</td>\n      <td>[2640_2, 5543_1, 15573_2, 15699_1, 17158_1]</td>\n      <td>{'2640_2': [2], '5543_1': [2], '15573_2': [2],...</td>\n      <td>[[0, 1, 1, 1, 1, 1, 0, 0, 0, 0, 0, 0, 0, 0], [...</td>\n      <td>5</td>\n      <td>-1.594631</td>\n    </tr>\n    <tr>\n      <th>3</th>\n      <td>512</td>\n      <td>4.678619</td>\n      <td>2.646312</td>\n      <td>0.059026</td>\n      <td>-3.263218e-04</td>\n      <td>-0.000293</td>\n      <td>-1.000000</td>\n      <td>1.613886</td>\n      <td>[2640, 2717, 5543, 15573, 17158]</td>\n      <td>[2640_2, 2717_1, 5543_1, 15573_2, 17158_1]</td>\n      <td>{'2640_2': [3], '5543_1': [3], '15573_2': [3],...</td>\n      <td>[[0, 0, 1, 1, 1, 1, 1, 0, 0, 0, 0, 0, 0, 0], [...</td>\n      <td>6</td>\n      <td>-1.613886</td>\n    </tr>\n    <tr>\n      <th>4</th>\n      <td>640</td>\n      <td>4.677918</td>\n      <td>2.591286</td>\n      <td>0.059130</td>\n      <td>-1.425992e-04</td>\n      <td>-0.000069</td>\n      <td>-1.000000</td>\n      <td>1.635931</td>\n      <td>[1632, 1856, 2640, 2717, 5543, 15573, 17158]</td>\n      <td>[1632_2, 1856_2, 2640_2, 2717_1, 5543_1, 15573...</td>\n      <td>{'2640_2': [4], '5543_1': [4], '15573_2': [4],...</td>\n      <td>[[0, 0, 0, 1, 1, 1, 1, 1, 0, 0, 0, 0, 0, 0], [...</td>\n      <td>8</td>\n      <td>-1.635931</td>\n    </tr>\n    <tr>\n      <th>...</th>\n      <td>...</td>\n      <td>...</td>\n      <td>...</td>\n      <td>...</td>\n      <td>...</td>\n      <td>...</td>\n      <td>...</td>\n      <td>...</td>\n      <td>...</td>\n      <td>...</td>\n      <td>...</td>\n      <td>...</td>\n      <td>...</td>\n      <td>...</td>\n    </tr>\n    <tr>\n      <th>15338</th>\n      <td>1968384</td>\n      <td>4.108388</td>\n      <td>-0.634866</td>\n      <td>0.059201</td>\n      <td>-2.580587e-04</td>\n      <td>0.000066</td>\n      <td>-1.000000</td>\n      <td>-0.396684</td>\n      <td>[1856, 5543, 14472, 15573, 15615, 15797]</td>\n      <td>[1856_1, 5543_1, 14472_1, 15573_1, 15615_1, 15...</td>\n      <td>{'2640_2': [], '5543_1': [], '15573_2': [], '1...</td>\n      <td>[[0, 0, 0, 0, 0, 0, 0, 0, 0, 0, 0, 0, 0, 0], [...</td>\n      <td>196</td>\n      <td>0.396684</td>\n    </tr>\n    <tr>\n      <th>15339</th>\n      <td>1968512</td>\n      <td>4.156990</td>\n      <td>-0.614649</td>\n      <td>0.059201</td>\n      <td>-2.533233e-04</td>\n      <td>0.000073</td>\n      <td>-1.000000</td>\n      <td>-0.403152</td>\n      <td>[1856, 5543, 14472, 15573, 15615, 15797]</td>\n      <td>[1856_1, 5543_1, 14472_1, 15573_1, 15615_1, 15...</td>\n      <td>{'2640_2': [], '5543_1': [], '15573_2': [], '1...</td>\n      <td>[[0, 0, 0, 0, 0, 0, 0, 0, 0, 0, 0, 0, 0, 0], [...</td>\n      <td>196</td>\n      <td>0.403152</td>\n    </tr>\n    <tr>\n      <th>15340</th>\n      <td>1968640</td>\n      <td>4.205974</td>\n      <td>-0.593832</td>\n      <td>0.059201</td>\n      <td>-1.015182e-04</td>\n      <td>0.000090</td>\n      <td>-1.000000</td>\n      <td>-0.398917</td>\n      <td>[1856, 5543, 14472, 15573, 15615, 15797]</td>\n      <td>[1856_1, 5543_1, 14472_1, 15573_1, 15615_1, 15...</td>\n      <td>{'2640_2': [], '5543_1': [], '15573_2': [], '1...</td>\n      <td>[[0, 0, 0, 0, 0, 0, 0, 0, 0, 0, 0, 0, 0, 0], [...</td>\n      <td>196</td>\n      <td>0.398917</td>\n    </tr>\n    <tr>\n      <th>15341</th>\n      <td>1968768</td>\n      <td>4.256237</td>\n      <td>-0.573071</td>\n      <td>0.059201</td>\n      <td>5.461929e-07</td>\n      <td>0.000191</td>\n      <td>-1.000000</td>\n      <td>-0.393958</td>\n      <td>[1856, 5543, 14472, 15573, 15615, 15797]</td>\n      <td>[1856_1, 5543_1, 14472_1, 15573_1, 15615_1, 15...</td>\n      <td>{'2640_2': [], '5543_1': [], '15573_2': [], '1...</td>\n      <td>[[0, 0, 0, 0, 0, 0, 0, 0, 0, 0, 0, 0, 0, 0], [...</td>\n      <td>196</td>\n      <td>0.393958</td>\n    </tr>\n    <tr>\n      <th>15342</th>\n      <td>1968896</td>\n      <td>4.307002</td>\n      <td>-0.552334</td>\n      <td>0.059201</td>\n      <td>2.073108e-05</td>\n      <td>0.000133</td>\n      <td>-1.000000</td>\n      <td>-0.386810</td>\n      <td>[5543, 14472, 15573, 15615, 15797]</td>\n      <td>[5543_1, 14472_1, 15573_1, 15615_1, 15797_0]</td>\n      <td>{'2640_2': [], '5543_1': [], '15573_2': [], '1...</td>\n      <td>[[0, 0, 0, 0, 0, 0, 0, 0, 0, 0, 0, 0, 0, 0], [...</td>\n      <td>196</td>\n      <td>0.386810</td>\n    </tr>\n  </tbody>\n</table>\n<p>15343 rows × 14 columns</p>\n</div>"
     },
     "execution_count": 2,
     "metadata": {},
     "output_type": "execute_result"
    }
   ],
   "source": [
    "\n",
    "\n",
    "project_tag = 'Avoidance'\n",
    "data_dir = join('data', project_tag)\n",
    "plot_dir = join('plots', project_tag, 'firing_fields')\n",
    "os.makedirs(plot_dir, exist_ok=True)\n",
    "trajdata = read_pickle(join(data_dir, 'traj.pickle'))\n",
    "metadata = read_pickle(join(data_dir, 'meta.pickle'))\n",
    "stored_f = metadata['stored_f']\n",
    "f_pos = metadata['fpos']\n",
    "\n",
    "\n",
    "trajdf = pd.DataFrame(trajdata)\n",
    "trajdf['X_Nrow'] = trajdf['X'].apply(lambda x : x.shape[0])\n",
    "trajdf['a'] = trajdf['rota'] * trajdf['rotz']\n",
    "print('Max x row ', trajdf['X_Nrow'].max())\n",
    "trajdf\n",
    "\n"
   ],
   "metadata": {
    "collapsed": false,
    "ExecuteTime": {
     "start_time": "2024-01-08T15:44:34.982169Z",
     "end_time": "2024-01-08T15:44:37.375100Z"
    }
   }
  },
  {
   "cell_type": "markdown",
   "source": [
    "# By Active F"
   ],
   "metadata": {
    "collapsed": false
   }
  },
  {
   "cell_type": "code",
   "execution_count": 3,
   "outputs": [],
   "source": [
    "norm = mpl.colors.Normalize(vmin=-np.pi, vmax=np.pi)\n",
    "cmap = cm.hsv"
   ],
   "metadata": {
    "collapsed": false,
    "ExecuteTime": {
     "start_time": "2024-01-08T15:44:37.377778Z",
     "end_time": "2024-01-08T15:44:37.391302Z"
    }
   }
  },
  {
   "cell_type": "code",
   "execution_count": 4,
   "outputs": [],
   "source": [
    "Num_Fnodes = trajdf['X_Nrow'].max()\n",
    "\n",
    "xdict = dict()\n",
    "ydict = dict()\n",
    "adict = dict()\n",
    "fposdict = dict()\n",
    "for i in range(trajdf.shape[0]):\n",
    "\n",
    "    Xmat = trajdf['X'][i]\n",
    "    x = trajdf['x'][i]\n",
    "    y = trajdf['y'][i]\n",
    "    a = trajdf['a'][i]\n",
    "    active_rowIDs = np.where(np.sum(Xmat, axis=1) > 0)[0]\n",
    "\n",
    "    for rowid in active_rowIDs:\n",
    "        nodekey = [str(k) for k, v in stored_f.items() if v == rowid][0]\n",
    "        fposdict[rowid] = f_pos[nodekey.split('_')[0]]\n",
    "\n",
    "\n",
    "        if rowid in xdict:\n",
    "            xdict[rowid].append(x)\n",
    "            ydict[rowid].append(y)\n",
    "            adict[rowid].append(a)\n",
    "\n",
    "        else:\n",
    "            xdict[rowid] = [x]\n",
    "            ydict[rowid] = [y]\n",
    "            adict[rowid] = [a]\n",
    "\n",
    "\n"
   ],
   "metadata": {
    "collapsed": false,
    "ExecuteTime": {
     "start_time": "2024-01-08T15:44:37.391302Z",
     "end_time": "2024-01-08T15:44:39.288429Z"
    }
   }
  },
  {
   "cell_type": "code",
   "execution_count": 5,
   "outputs": [],
   "source": [
    "plot_dir_byActiveF = join(plot_dir, 'ByActiveF')\n",
    "os.makedirs(plot_dir_byActiveF, exist_ok=True)\n",
    "\n",
    "np.random.seed(0)\n",
    "ivec = np.random.permutation(Num_Fnodes)\n",
    "for i in range(Num_Fnodes):\n",
    "    N = len(xdict[i])\n",
    "    frac = 1\n",
    "\n",
    "    nodekey = [str(k) for k, v in stored_f.items() if v == i][0]\n",
    "\n",
    "    ranvec = np.random.permutation(N)\n",
    "\n",
    "\n",
    "    x = np.array(xdict[i])[ranvec][:int(N*frac)]\n",
    "    y = np.array(ydict[i])[ranvec][:int(N*frac)]\n",
    "    a = np.array(adict[i])[ranvec][:int(N*frac)]\n",
    "    fpos_this = fposdict[i]\n",
    "\n",
    "\n",
    "\n",
    "    fig, ax = plt.subplots(figsize=(14, 6), facecolor='w')\n",
    "\n",
    "    ax.plot(trajdf.x, trajdf.y, color='gray', alpha=0.5)\n",
    "    ax.scatter(fpos_this[0], fpos_this[1], marker='x', color='k')\n",
    "    angvec = np.exp(1j * a)\n",
    "    im = ax.quiver(x, y, np.real(angvec), np.imag(angvec), color=cmap(norm(a)), scale=70, cmap='hsv')\n",
    "    cbar = plt.colorbar(im, ax=ax)\n",
    "    cbar.ax.set_yticks([0, 0.5, 1])\n",
    "    cbar.ax.set_yticklabels(['$-\\pi$', '0', '$\\pi$'])\n",
    "    cbar.ax.set_ylabel('Head direction (rad)')\n",
    "    ax.set_title('Node = %s'%(nodekey))\n",
    "    fig.tight_layout()\n",
    "    fig.savefig(join(plot_dir_byActiveF, '%s.png'%nodekey), dpi=200)\n",
    "    plt.close(fig)\n",
    "    # break\n",
    "\n"
   ],
   "metadata": {
    "collapsed": false,
    "ExecuteTime": {
     "start_time": "2024-01-08T15:44:39.299875Z",
     "end_time": "2024-01-08T15:46:21.269912Z"
    }
   }
  },
  {
   "cell_type": "markdown",
   "source": [
    "# By sigma"
   ],
   "metadata": {
    "collapsed": false
   }
  },
  {
   "cell_type": "code",
   "execution_count": 20,
   "outputs": [],
   "source": [
    "max_sigma = 10\n",
    "min_sigma = 1\n",
    "\n",
    "norm = mpl.colors.Normalize(vmin=min_sigma, vmax=max_sigma)\n",
    "cmap = cm.jet"
   ],
   "metadata": {
    "collapsed": false,
    "ExecuteTime": {
     "start_time": "2024-01-08T15:08:46.971257Z",
     "end_time": "2024-01-08T15:08:46.986632Z"
    }
   }
  },
  {
   "cell_type": "code",
   "execution_count": 21,
   "outputs": [
    {
     "name": "stderr",
     "output_type": "stream",
     "text": [
      "100%|██████████| 14195/14195 [00:02<00:00, 6789.01it/s]\n"
     ]
    }
   ],
   "source": [
    "xdict = dict()\n",
    "ydict = dict()\n",
    "adict = dict()\n",
    "sigmadict = dict()\n",
    "fposdict = dict()\n",
    "\n",
    "for i in tqdm(range(trajdf.shape[0])):\n",
    "    f_sigma = trajdf['f_sigma'][i]\n",
    "\n",
    "    for nodekey in stored_f.keys():\n",
    "\n",
    "        if nodekey in f_sigma:\n",
    "\n",
    "            if nodekey not in xdict:\n",
    "                xdict[nodekey] = []\n",
    "                ydict[nodekey] = []\n",
    "                adict[nodekey] = []\n",
    "                sigmadict[nodekey] = []\n",
    "                nodepos = f_pos[nodekey.split('_')[0]]\n",
    "                fposdict[nodekey] = nodepos\n",
    "\n",
    "\n",
    "            sigma_list = f_sigma[nodekey]\n",
    "            for sigma in sigma_list:\n",
    "                x = trajdf['x'][i]\n",
    "                y = trajdf['y'][i]\n",
    "                a = trajdf['a'][i]\n",
    "                xdict[nodekey].append(x)\n",
    "                ydict[nodekey].append(y)\n",
    "                adict[nodekey].append(a)\n",
    "                sigmadict[nodekey].append(sigma)\n"
   ],
   "metadata": {
    "collapsed": false,
    "ExecuteTime": {
     "start_time": "2024-01-08T15:08:48.386562Z",
     "end_time": "2024-01-08T15:08:50.501300Z"
    }
   }
  },
  {
   "cell_type": "code",
   "execution_count": 22,
   "outputs": [
    {
     "name": "stderr",
     "output_type": "stream",
     "text": [
      "100%|██████████| 196/196 [01:42<00:00,  1.90it/s]\n"
     ]
    }
   ],
   "source": [
    "plot_dir_sigma = join(plot_dir, 'BySigma')\n",
    "os.makedirs(plot_dir_sigma, exist_ok=True)\n",
    "\n",
    "np.random.seed(0)\n",
    "ivec = np.random.permutation(Num_Fnodes)\n",
    "for nodekey in tqdm(stored_f.keys()):\n",
    "\n",
    "    N = len(xdict[nodekey])\n",
    "    if N < 1:\n",
    "        continue\n",
    "    frac = 1\n",
    "\n",
    "    ranvec = np.random.permutation(N)\n",
    "\n",
    "\n",
    "    x = np.array(xdict[nodekey])[ranvec][:int(N*frac)]\n",
    "    y = np.array(ydict[nodekey])[ranvec][:int(N*frac)]\n",
    "    a = np.array(adict[nodekey])[ranvec][:int(N*frac)]\n",
    "    sigma = np.array(sigmadict[nodekey])[ranvec][:int(N*frac)]\n",
    "    fpos = fposdict[nodekey]\n",
    "\n",
    "    angvec = np.exp(1j * a)\n",
    "\n",
    "    fig, ax = plt.subplots(figsize=(14, 6), facecolor='w')\n",
    "\n",
    "    ax.scatter(fpos[0], fpos[1], marker='o', color='k')\n",
    "    ax.plot(trajdf.x, trajdf.y, color='gray', alpha=0.5)\n",
    "    im = ax.quiver(x, y, np.real(angvec), np.imag(angvec), color=cmap(norm(sigma)), scale=70, cmap='hsv')\n",
    "    cbar = plt.colorbar(im, ax=ax)\n",
    "    cbar.ax.set_yticks(np.linspace(0, 1, 10))\n",
    "    cbar.ax.set_yticklabels(np.arange(1, 11, 1))\n",
    "    cbar.ax.set_ylabel('Sigma')\n",
    "    ax.set_title('Node = %s'%(nodekey))\n",
    "    fig.tight_layout()\n",
    "    fig.savefig(join(plot_dir_sigma, '%s.png'%nodekey), dpi=200)\n",
    "    plt.close(fig)\n",
    "\n"
   ],
   "metadata": {
    "collapsed": false,
    "ExecuteTime": {
     "start_time": "2024-01-08T15:08:50.506338Z",
     "end_time": "2024-01-08T15:10:35.046172Z"
    }
   }
  }
 ],
 "metadata": {
  "kernelspec": {
   "display_name": "Python 3",
   "language": "python",
   "name": "python3"
  },
  "language_info": {
   "codemirror_mode": {
    "name": "ipython",
    "version": 2
   },
   "file_extension": ".py",
   "mimetype": "text/x-python",
   "name": "python",
   "nbconvert_exporter": "python",
   "pygments_lexer": "ipython2",
   "version": "2.7.6"
  }
 },
 "nbformat": 4,
 "nbformat_minor": 0
}
