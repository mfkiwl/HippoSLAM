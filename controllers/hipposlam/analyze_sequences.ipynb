{
 "cells": [
  {
   "cell_type": "code",
   "execution_count": 7,
   "outputs": [],
   "source": [
    "import numpy as np\n",
    "from hipposlam.utils import read_pickle\n",
    "import pandas as pd\n",
    "import matplotlib.pyplot as plt\n",
    "from os.path import join\n",
    "import os\n",
    "import matplotlib as mpl\n",
    "from matplotlib import cm\n",
    "from tqdm import tqdm"
   ],
   "metadata": {
    "collapsed": false,
    "ExecuteTime": {
     "start_time": "2024-01-07T19:23:22.030015Z",
     "end_time": "2024-01-07T19:23:22.049770Z"
    }
   }
  },
  {
   "cell_type": "code",
   "execution_count": 8,
   "outputs": [
    {
     "name": "stdout",
     "output_type": "stream",
     "text": [
      "Max x row  71\n"
     ]
    },
    {
     "data": {
      "text/plain": "             t         x         y         z         a objID  \\\n0          128  4.320020  3.252637  0.061593  1.570797   [0]   \n1          256  4.320020  3.175768  0.058121  1.570796   [0]   \n2          384  4.320020  3.098910  0.058760  1.570795   [0]   \n3          512  4.320020  3.022087  0.059021  1.570795   [0]   \n4          640  4.320020  2.945278  0.059127  1.570795   [0]   \n...        ...       ...       ...       ...       ...   ...   \n15399  1976192  4.580136  4.205103  0.059201  1.351344  [15]   \n15400  1976320  4.596855  4.280061  0.059201  1.351344    []   \n15401  1976448  4.613574  4.355019  0.059201  1.351344    []   \n15402  1976576  4.630293  4.429977  0.059201  1.351344    []   \n15403  1976704  4.631161  4.481373  0.059207  1.189002    []   \n\n                                                 f_sigma  \\\n0                                               {0: [1]}   \n1                                               {0: [2]}   \n2                                               {0: [3]}   \n3                                               {0: [4]}   \n4                                               {0: [5]}   \n...                                                  ...   \n15399  {0: [], 1: [], 2: [], 3: [], 4: [], 5: [], 6: ...   \n15400  {0: [], 1: [], 2: [], 3: [], 4: [], 5: [], 6: ...   \n15401  {0: [], 1: [], 2: [], 3: [], 4: [], 5: [], 6: ...   \n15402  {0: [], 1: [], 2: [], 3: [], 4: [], 5: [], 6: ...   \n15403  {0: [], 1: [], 2: [], 3: [], 4: [], 5: [], 6: ...   \n\n                                                       X  X_Nrow  \n0           [[1, 1, 1, 1, 1, 0, 0, 0, 0, 0, 0, 0, 0, 0]]       1  \n1           [[0, 1, 1, 1, 1, 1, 0, 0, 0, 0, 0, 0, 0, 0]]       1  \n2           [[0, 0, 1, 1, 1, 1, 1, 0, 0, 0, 0, 0, 0, 0]]       1  \n3           [[0, 0, 0, 1, 1, 1, 1, 1, 0, 0, 0, 0, 0, 0]]       1  \n4           [[0, 0, 0, 0, 1, 1, 1, 1, 1, 0, 0, 0, 0, 0]]       1  \n...                                                  ...     ...  \n15399  [[0, 0, 0, 0, 0, 0, 0, 0, 0, 0, 0, 0, 0, 0], [...      71  \n15400  [[0, 0, 0, 0, 0, 0, 0, 0, 0, 0, 0, 0, 0, 0], [...      71  \n15401  [[0, 0, 0, 0, 0, 0, 0, 0, 0, 0, 0, 0, 0, 0], [...      71  \n15402  [[0, 0, 0, 0, 0, 0, 0, 0, 0, 0, 0, 0, 0, 0], [...      71  \n15403  [[0, 0, 0, 0, 0, 0, 0, 0, 0, 0, 0, 0, 0, 0], [...      71  \n\n[15404 rows x 9 columns]",
      "text/html": "<div>\n<style scoped>\n    .dataframe tbody tr th:only-of-type {\n        vertical-align: middle;\n    }\n\n    .dataframe tbody tr th {\n        vertical-align: top;\n    }\n\n    .dataframe thead th {\n        text-align: right;\n    }\n</style>\n<table border=\"1\" class=\"dataframe\">\n  <thead>\n    <tr style=\"text-align: right;\">\n      <th></th>\n      <th>t</th>\n      <th>x</th>\n      <th>y</th>\n      <th>z</th>\n      <th>a</th>\n      <th>objID</th>\n      <th>f_sigma</th>\n      <th>X</th>\n      <th>X_Nrow</th>\n    </tr>\n  </thead>\n  <tbody>\n    <tr>\n      <th>0</th>\n      <td>128</td>\n      <td>4.320020</td>\n      <td>3.252637</td>\n      <td>0.061593</td>\n      <td>1.570797</td>\n      <td>[0]</td>\n      <td>{0: [1]}</td>\n      <td>[[1, 1, 1, 1, 1, 0, 0, 0, 0, 0, 0, 0, 0, 0]]</td>\n      <td>1</td>\n    </tr>\n    <tr>\n      <th>1</th>\n      <td>256</td>\n      <td>4.320020</td>\n      <td>3.175768</td>\n      <td>0.058121</td>\n      <td>1.570796</td>\n      <td>[0]</td>\n      <td>{0: [2]}</td>\n      <td>[[0, 1, 1, 1, 1, 1, 0, 0, 0, 0, 0, 0, 0, 0]]</td>\n      <td>1</td>\n    </tr>\n    <tr>\n      <th>2</th>\n      <td>384</td>\n      <td>4.320020</td>\n      <td>3.098910</td>\n      <td>0.058760</td>\n      <td>1.570795</td>\n      <td>[0]</td>\n      <td>{0: [3]}</td>\n      <td>[[0, 0, 1, 1, 1, 1, 1, 0, 0, 0, 0, 0, 0, 0]]</td>\n      <td>1</td>\n    </tr>\n    <tr>\n      <th>3</th>\n      <td>512</td>\n      <td>4.320020</td>\n      <td>3.022087</td>\n      <td>0.059021</td>\n      <td>1.570795</td>\n      <td>[0]</td>\n      <td>{0: [4]}</td>\n      <td>[[0, 0, 0, 1, 1, 1, 1, 1, 0, 0, 0, 0, 0, 0]]</td>\n      <td>1</td>\n    </tr>\n    <tr>\n      <th>4</th>\n      <td>640</td>\n      <td>4.320020</td>\n      <td>2.945278</td>\n      <td>0.059127</td>\n      <td>1.570795</td>\n      <td>[0]</td>\n      <td>{0: [5]}</td>\n      <td>[[0, 0, 0, 0, 1, 1, 1, 1, 1, 0, 0, 0, 0, 0]]</td>\n      <td>1</td>\n    </tr>\n    <tr>\n      <th>...</th>\n      <td>...</td>\n      <td>...</td>\n      <td>...</td>\n      <td>...</td>\n      <td>...</td>\n      <td>...</td>\n      <td>...</td>\n      <td>...</td>\n      <td>...</td>\n    </tr>\n    <tr>\n      <th>15399</th>\n      <td>1976192</td>\n      <td>4.580136</td>\n      <td>4.205103</td>\n      <td>0.059201</td>\n      <td>1.351344</td>\n      <td>[15]</td>\n      <td>{0: [], 1: [], 2: [], 3: [], 4: [], 5: [], 6: ...</td>\n      <td>[[0, 0, 0, 0, 0, 0, 0, 0, 0, 0, 0, 0, 0, 0], [...</td>\n      <td>71</td>\n    </tr>\n    <tr>\n      <th>15400</th>\n      <td>1976320</td>\n      <td>4.596855</td>\n      <td>4.280061</td>\n      <td>0.059201</td>\n      <td>1.351344</td>\n      <td>[]</td>\n      <td>{0: [], 1: [], 2: [], 3: [], 4: [], 5: [], 6: ...</td>\n      <td>[[0, 0, 0, 0, 0, 0, 0, 0, 0, 0, 0, 0, 0, 0], [...</td>\n      <td>71</td>\n    </tr>\n    <tr>\n      <th>15401</th>\n      <td>1976448</td>\n      <td>4.613574</td>\n      <td>4.355019</td>\n      <td>0.059201</td>\n      <td>1.351344</td>\n      <td>[]</td>\n      <td>{0: [], 1: [], 2: [], 3: [], 4: [], 5: [], 6: ...</td>\n      <td>[[0, 0, 0, 0, 0, 0, 0, 0, 0, 0, 0, 0, 0, 0], [...</td>\n      <td>71</td>\n    </tr>\n    <tr>\n      <th>15402</th>\n      <td>1976576</td>\n      <td>4.630293</td>\n      <td>4.429977</td>\n      <td>0.059201</td>\n      <td>1.351344</td>\n      <td>[]</td>\n      <td>{0: [], 1: [], 2: [], 3: [], 4: [], 5: [], 6: ...</td>\n      <td>[[0, 0, 0, 0, 0, 0, 0, 0, 0, 0, 0, 0, 0, 0], [...</td>\n      <td>71</td>\n    </tr>\n    <tr>\n      <th>15403</th>\n      <td>1976704</td>\n      <td>4.631161</td>\n      <td>4.481373</td>\n      <td>0.059207</td>\n      <td>1.189002</td>\n      <td>[]</td>\n      <td>{0: [], 1: [], 2: [], 3: [], 4: [], 5: [], 6: ...</td>\n      <td>[[0, 0, 0, 0, 0, 0, 0, 0, 0, 0, 0, 0, 0, 0], [...</td>\n      <td>71</td>\n    </tr>\n  </tbody>\n</table>\n<p>15404 rows × 9 columns</p>\n</div>"
     },
     "execution_count": 8,
     "metadata": {},
     "output_type": "execute_result"
    }
   ],
   "source": [
    "\n",
    "\n",
    "project_tag = 'Avoidance_Sift'\n",
    "data_dir = join('data', project_tag)\n",
    "plot_dir = join('plots', project_tag, 'firing_fields')\n",
    "os.makedirs(plot_dir, exist_ok=True)\n",
    "trajdata = read_pickle(join(data_dir, 'traj.pickle'))\n",
    "metadata = read_pickle(join(data_dir, 'meta.pickle'))\n",
    "stored_f = metadata['stored_f']\n",
    "f_pos = metadata['fpos']\n",
    "\n",
    "\n",
    "trajdf = pd.DataFrame(trajdata)\n",
    "trajdf['X_Nrow'] = trajdf['X'].apply(lambda x : x.shape[0])\n",
    "print('Max x row ', trajdf['X_Nrow'].max())\n",
    "trajdf\n",
    "\n"
   ],
   "metadata": {
    "collapsed": false,
    "ExecuteTime": {
     "start_time": "2024-01-07T19:23:22.343942Z",
     "end_time": "2024-01-07T19:23:23.923264Z"
    }
   }
  },
  {
   "cell_type": "code",
   "execution_count": 9,
   "outputs": [
    {
     "data": {
      "text/plain": "             t         x         y         z         a objID  \\\n0          128  4.320020  3.252637  0.061593  1.570797   [0]   \n1          256  4.320020  3.175768  0.058121  1.570796   [0]   \n2          384  4.320020  3.098910  0.058760  1.570795   [0]   \n3          512  4.320020  3.022087  0.059021  1.570795   [0]   \n4          640  4.320020  2.945278  0.059127  1.570795   [0]   \n...        ...       ...       ...       ...       ...   ...   \n15399  1976192  4.580136  4.205103  0.059201  1.351344  [15]   \n15400  1976320  4.596855  4.280061  0.059201  1.351344    []   \n15401  1976448  4.613574  4.355019  0.059201  1.351344    []   \n15402  1976576  4.630293  4.429977  0.059201  1.351344    []   \n15403  1976704  4.631161  4.481373  0.059207  1.189002    []   \n\n                                                 f_sigma  \\\n0                                               {0: [1]}   \n1                                               {0: [2]}   \n2                                               {0: [3]}   \n3                                               {0: [4]}   \n4                                               {0: [5]}   \n...                                                  ...   \n15399  {0: [], 1: [], 2: [], 3: [], 4: [], 5: [], 6: ...   \n15400  {0: [], 1: [], 2: [], 3: [], 4: [], 5: [], 6: ...   \n15401  {0: [], 1: [], 2: [], 3: [], 4: [], 5: [], 6: ...   \n15402  {0: [], 1: [], 2: [], 3: [], 4: [], 5: [], 6: ...   \n15403  {0: [], 1: [], 2: [], 3: [], 4: [], 5: [], 6: ...   \n\n                                                       X  X_Nrow  \n0           [[1, 1, 1, 1, 1, 0, 0, 0, 0, 0, 0, 0, 0, 0]]       1  \n1           [[0, 1, 1, 1, 1, 1, 0, 0, 0, 0, 0, 0, 0, 0]]       1  \n2           [[0, 0, 1, 1, 1, 1, 1, 0, 0, 0, 0, 0, 0, 0]]       1  \n3           [[0, 0, 0, 1, 1, 1, 1, 1, 0, 0, 0, 0, 0, 0]]       1  \n4           [[0, 0, 0, 0, 1, 1, 1, 1, 1, 0, 0, 0, 0, 0]]       1  \n...                                                  ...     ...  \n15399  [[0, 0, 0, 0, 0, 0, 0, 0, 0, 0, 0, 0, 0, 0], [...      71  \n15400  [[0, 0, 0, 0, 0, 0, 0, 0, 0, 0, 0, 0, 0, 0], [...      71  \n15401  [[0, 0, 0, 0, 0, 0, 0, 0, 0, 0, 0, 0, 0, 0], [...      71  \n15402  [[0, 0, 0, 0, 0, 0, 0, 0, 0, 0, 0, 0, 0, 0], [...      71  \n15403  [[0, 0, 0, 0, 0, 0, 0, 0, 0, 0, 0, 0, 0, 0], [...      71  \n\n[15404 rows x 9 columns]",
      "text/html": "<div>\n<style scoped>\n    .dataframe tbody tr th:only-of-type {\n        vertical-align: middle;\n    }\n\n    .dataframe tbody tr th {\n        vertical-align: top;\n    }\n\n    .dataframe thead th {\n        text-align: right;\n    }\n</style>\n<table border=\"1\" class=\"dataframe\">\n  <thead>\n    <tr style=\"text-align: right;\">\n      <th></th>\n      <th>t</th>\n      <th>x</th>\n      <th>y</th>\n      <th>z</th>\n      <th>a</th>\n      <th>objID</th>\n      <th>f_sigma</th>\n      <th>X</th>\n      <th>X_Nrow</th>\n    </tr>\n  </thead>\n  <tbody>\n    <tr>\n      <th>0</th>\n      <td>128</td>\n      <td>4.320020</td>\n      <td>3.252637</td>\n      <td>0.061593</td>\n      <td>1.570797</td>\n      <td>[0]</td>\n      <td>{0: [1]}</td>\n      <td>[[1, 1, 1, 1, 1, 0, 0, 0, 0, 0, 0, 0, 0, 0]]</td>\n      <td>1</td>\n    </tr>\n    <tr>\n      <th>1</th>\n      <td>256</td>\n      <td>4.320020</td>\n      <td>3.175768</td>\n      <td>0.058121</td>\n      <td>1.570796</td>\n      <td>[0]</td>\n      <td>{0: [2]}</td>\n      <td>[[0, 1, 1, 1, 1, 1, 0, 0, 0, 0, 0, 0, 0, 0]]</td>\n      <td>1</td>\n    </tr>\n    <tr>\n      <th>2</th>\n      <td>384</td>\n      <td>4.320020</td>\n      <td>3.098910</td>\n      <td>0.058760</td>\n      <td>1.570795</td>\n      <td>[0]</td>\n      <td>{0: [3]}</td>\n      <td>[[0, 0, 1, 1, 1, 1, 1, 0, 0, 0, 0, 0, 0, 0]]</td>\n      <td>1</td>\n    </tr>\n    <tr>\n      <th>3</th>\n      <td>512</td>\n      <td>4.320020</td>\n      <td>3.022087</td>\n      <td>0.059021</td>\n      <td>1.570795</td>\n      <td>[0]</td>\n      <td>{0: [4]}</td>\n      <td>[[0, 0, 0, 1, 1, 1, 1, 1, 0, 0, 0, 0, 0, 0]]</td>\n      <td>1</td>\n    </tr>\n    <tr>\n      <th>4</th>\n      <td>640</td>\n      <td>4.320020</td>\n      <td>2.945278</td>\n      <td>0.059127</td>\n      <td>1.570795</td>\n      <td>[0]</td>\n      <td>{0: [5]}</td>\n      <td>[[0, 0, 0, 0, 1, 1, 1, 1, 1, 0, 0, 0, 0, 0]]</td>\n      <td>1</td>\n    </tr>\n    <tr>\n      <th>...</th>\n      <td>...</td>\n      <td>...</td>\n      <td>...</td>\n      <td>...</td>\n      <td>...</td>\n      <td>...</td>\n      <td>...</td>\n      <td>...</td>\n      <td>...</td>\n    </tr>\n    <tr>\n      <th>15399</th>\n      <td>1976192</td>\n      <td>4.580136</td>\n      <td>4.205103</td>\n      <td>0.059201</td>\n      <td>1.351344</td>\n      <td>[15]</td>\n      <td>{0: [], 1: [], 2: [], 3: [], 4: [], 5: [], 6: ...</td>\n      <td>[[0, 0, 0, 0, 0, 0, 0, 0, 0, 0, 0, 0, 0, 0], [...</td>\n      <td>71</td>\n    </tr>\n    <tr>\n      <th>15400</th>\n      <td>1976320</td>\n      <td>4.596855</td>\n      <td>4.280061</td>\n      <td>0.059201</td>\n      <td>1.351344</td>\n      <td>[]</td>\n      <td>{0: [], 1: [], 2: [], 3: [], 4: [], 5: [], 6: ...</td>\n      <td>[[0, 0, 0, 0, 0, 0, 0, 0, 0, 0, 0, 0, 0, 0], [...</td>\n      <td>71</td>\n    </tr>\n    <tr>\n      <th>15401</th>\n      <td>1976448</td>\n      <td>4.613574</td>\n      <td>4.355019</td>\n      <td>0.059201</td>\n      <td>1.351344</td>\n      <td>[]</td>\n      <td>{0: [], 1: [], 2: [], 3: [], 4: [], 5: [], 6: ...</td>\n      <td>[[0, 0, 0, 0, 0, 0, 0, 0, 0, 0, 0, 0, 0, 0], [...</td>\n      <td>71</td>\n    </tr>\n    <tr>\n      <th>15402</th>\n      <td>1976576</td>\n      <td>4.630293</td>\n      <td>4.429977</td>\n      <td>0.059201</td>\n      <td>1.351344</td>\n      <td>[]</td>\n      <td>{0: [], 1: [], 2: [], 3: [], 4: [], 5: [], 6: ...</td>\n      <td>[[0, 0, 0, 0, 0, 0, 0, 0, 0, 0, 0, 0, 0, 0], [...</td>\n      <td>71</td>\n    </tr>\n    <tr>\n      <th>15403</th>\n      <td>1976704</td>\n      <td>4.631161</td>\n      <td>4.481373</td>\n      <td>0.059207</td>\n      <td>1.189002</td>\n      <td>[]</td>\n      <td>{0: [], 1: [], 2: [], 3: [], 4: [], 5: [], 6: ...</td>\n      <td>[[0, 0, 0, 0, 0, 0, 0, 0, 0, 0, 0, 0, 0, 0], [...</td>\n      <td>71</td>\n    </tr>\n  </tbody>\n</table>\n<p>15404 rows × 9 columns</p>\n</div>"
     },
     "execution_count": 9,
     "metadata": {},
     "output_type": "execute_result"
    }
   ],
   "source": [
    "trajdf"
   ],
   "metadata": {
    "collapsed": false,
    "ExecuteTime": {
     "start_time": "2024-01-07T19:23:30.996967Z",
     "end_time": "2024-01-07T19:23:31.251015Z"
    }
   }
  },
  {
   "cell_type": "markdown",
   "source": [
    "# By Active F"
   ],
   "metadata": {
    "collapsed": false
   }
  },
  {
   "cell_type": "code",
   "execution_count": 10,
   "outputs": [],
   "source": [
    "norm = mpl.colors.Normalize(vmin=-np.pi, vmax=np.pi)\n",
    "cmap = cm.hsv"
   ],
   "metadata": {
    "collapsed": false,
    "ExecuteTime": {
     "start_time": "2024-01-07T19:23:39.128946Z",
     "end_time": "2024-01-07T19:23:39.150930Z"
    }
   }
  },
  {
   "cell_type": "code",
   "execution_count": 11,
   "outputs": [],
   "source": [
    "Num_Fnodes = trajdf['X_Nrow'].max()\n",
    "\n",
    "xdict = dict()\n",
    "ydict = dict()\n",
    "adict = dict()\n",
    "fposdict = dict()\n",
    "for i in range(trajdf.shape[0]):\n",
    "\n",
    "    Xmat = trajdf['X'][i]\n",
    "    x = trajdf['x'][i]\n",
    "    y = trajdf['y'][i]\n",
    "    a = trajdf['a'][i]\n",
    "    active_rowIDs = np.where(np.sum(Xmat, axis=1) > 0)[0]\n",
    "\n",
    "    for rowid in active_rowIDs:\n",
    "        # nodekey = [str(k) for k, v in stored_f.items() if v == rowid][0]\n",
    "        # fposdict[rowid] = f_pos[nodekey.split('_')[0]]\n",
    "\n",
    "\n",
    "        if rowid in xdict:\n",
    "            xdict[rowid].append(x)\n",
    "            ydict[rowid].append(y)\n",
    "            adict[rowid].append(a)\n",
    "\n",
    "        else:\n",
    "            xdict[rowid] = [x]\n",
    "            ydict[rowid] = [y]\n",
    "            adict[rowid] = [a]\n",
    "\n",
    "\n"
   ],
   "metadata": {
    "collapsed": false,
    "ExecuteTime": {
     "start_time": "2024-01-07T19:23:47.413551Z",
     "end_time": "2024-01-07T19:23:48.185337Z"
    }
   }
  },
  {
   "cell_type": "code",
   "execution_count": 12,
   "outputs": [],
   "source": [
    "plot_dir_byActiveF = join(plot_dir, 'ByActiveF')\n",
    "os.makedirs(plot_dir_byActiveF, exist_ok=True)\n",
    "\n",
    "np.random.seed(0)\n",
    "ivec = np.random.permutation(Num_Fnodes)\n",
    "for i in range(Num_Fnodes):\n",
    "    N = len(xdict[i])\n",
    "    frac = 1\n",
    "\n",
    "    nodekey = [str(k) for k, v in stored_f.items() if v == i][0]\n",
    "\n",
    "    ranvec = np.random.permutation(N)\n",
    "\n",
    "\n",
    "    x = np.array(xdict[i])[ranvec][:int(N*frac)]\n",
    "    y = np.array(ydict[i])[ranvec][:int(N*frac)]\n",
    "    a = np.array(adict[i])[ranvec][:int(N*frac)]\n",
    "\n",
    "    angvec = np.exp(1j * a)\n",
    "\n",
    "    fig, ax = plt.subplots(figsize=(14, 6), facecolor='w')\n",
    "\n",
    "    ax.plot(trajdf.x, trajdf.y, color='gray', alpha=0.5)\n",
    "    im = ax.quiver(x, y, np.real(angvec), np.imag(angvec), color=cmap(norm(a)), scale=70, cmap='hsv')\n",
    "    cbar = plt.colorbar(im, ax=ax)\n",
    "    cbar.ax.set_yticks([0, 0.5, 1])\n",
    "    cbar.ax.set_yticklabels(['$-\\pi$', '0', '$\\pi$'])\n",
    "    cbar.ax.set_ylabel('Head direction (rad)')\n",
    "    ax.set_title('Node = %s'%(nodekey))\n",
    "    fig.tight_layout()\n",
    "    fig.savefig(join(plot_dir_byActiveF, '%s.png'%nodekey), dpi=200)\n",
    "    plt.close(fig)\n",
    "\n"
   ],
   "metadata": {
    "collapsed": false,
    "ExecuteTime": {
     "start_time": "2024-01-07T19:23:54.143380Z",
     "end_time": "2024-01-07T19:24:38.646942Z"
    }
   }
  },
  {
   "cell_type": "code",
   "execution_count": 29,
   "outputs": [
    {
     "data": {
      "text/plain": "<Figure size 640x480 with 1 Axes>",
      "image/png": "[encoded data removed]"
     },
     "metadata": {},
     "output_type": "display_data"
    }
   ],
   "source": [
    "k = 5\n",
    "a0 = np.pi\n",
    "a = np.linspace(0, np.pi, 100)\n",
    "x = 3\n",
    "# y = (x**(a/a0)-1) / x * k + (k/x)\n",
    "y = (x ** a -1) / (x**a0 - 1) * k\n",
    "\n",
    "\n",
    "plt.plot(a, y)\n",
    "_ = plt.yticks(np.arange(0, 5.1, 0.5))"
   ],
   "metadata": {
    "collapsed": false,
    "ExecuteTime": {
     "start_time": "2024-01-07T23:44:24.578628Z",
     "end_time": "2024-01-07T23:44:24.736552Z"
    }
   }
  },
  {
   "cell_type": "markdown",
   "source": [
    "# By sigma"
   ],
   "metadata": {
    "collapsed": false
   }
  },
  {
   "cell_type": "code",
   "execution_count": 73,
   "outputs": [],
   "source": [
    "max_sigma = 10\n",
    "min_sigma = 1\n",
    "\n",
    "norm = mpl.colors.Normalize(vmin=min_sigma, vmax=max_sigma)\n",
    "cmap = cm.jet"
   ],
   "metadata": {
    "collapsed": false,
    "ExecuteTime": {
     "end_time": "2023-12-14T12:16:25.183140200Z",
     "start_time": "2023-12-14T12:16:25.169505100Z"
    }
   }
  },
  {
   "cell_type": "code",
   "execution_count": 74,
   "outputs": [
    {
     "name": "stderr",
     "output_type": "stream",
     "text": [
      "100%|██████████| 21292/21292 [00:01<00:00, 12397.97it/s]\n"
     ]
    }
   ],
   "source": [
    "xdict = dict()\n",
    "ydict = dict()\n",
    "adict = dict()\n",
    "sigmadict = dict()\n",
    "fposdict = dict()\n",
    "\n",
    "for i in tqdm(range(trajdf.shape[0])):\n",
    "    if i > 50:\n",
    "        break\n",
    "    f_sigma = trajdf['f_sigma'][i]\n",
    "\n",
    "    for nodekey in stored_f.keys():\n",
    "\n",
    "\n",
    "\n",
    "        if nodekey in f_sigma:\n",
    "\n",
    "            if nodekey not in xdict:\n",
    "                xdict[nodekey] = []\n",
    "                ydict[nodekey] = []\n",
    "                adict[nodekey] = []\n",
    "                sigmadict[nodekey] = []\n",
    "                nodepos = f_pos[nodekey.split('_')[0]]\n",
    "                fposdict[nodekey] = nodepos\n",
    "\n",
    "\n",
    "            sigma_list = f_sigma[nodekey]\n",
    "            for sigma in sigma_list:\n",
    "                x = trajdf['x'][i]\n",
    "                y = trajdf['y'][i]\n",
    "                a = trajdf['a'][i]\n",
    "                xdict[nodekey].append(x)\n",
    "                ydict[nodekey].append(y)\n",
    "                adict[nodekey].append(a)\n",
    "                sigmadict[nodekey].append(sigma)\n"
   ],
   "metadata": {
    "collapsed": false,
    "ExecuteTime": {
     "end_time": "2023-12-14T12:16:27.649363200Z",
     "start_time": "2023-12-14T12:16:25.869168500Z"
    }
   }
  },
  {
   "cell_type": "code",
   "execution_count": 81,
   "outputs": [
    {
     "name": "stderr",
     "output_type": "stream",
     "text": [
      "100%|██████████| 256/256 [01:28<00:00,  2.91it/s]\n"
     ]
    }
   ],
   "source": [
    "plot_dir_sigma = join(plot_dir, 'BySigma')\n",
    "os.makedirs(plot_dir_sigma, exist_ok=True)\n",
    "\n",
    "np.random.seed(0)\n",
    "ivec = np.random.permutation(Num_Fnodes)\n",
    "for nodekey in tqdm(stored_f.keys()):\n",
    "\n",
    "    N = len(xdict[nodekey])\n",
    "    if N < 1:\n",
    "        continue\n",
    "    frac = 1\n",
    "\n",
    "    ranvec = np.random.permutation(N)\n",
    "\n",
    "\n",
    "    x = np.array(xdict[nodekey])[ranvec][:int(N*frac)]\n",
    "    y = np.array(ydict[nodekey])[ranvec][:int(N*frac)]\n",
    "    a = np.array(adict[nodekey])[ranvec][:int(N*frac)]\n",
    "    sigma = np.array(sigmadict[nodekey])[ranvec][:int(N*frac)]\n",
    "    fpos = fposdict[nodekey]\n",
    "\n",
    "    angvec = np.exp(1j * a)\n",
    "\n",
    "    fig, ax = plt.subplots(figsize=(14, 6), facecolor='w')\n",
    "\n",
    "    ax.scatter(fpos[0], fpos[1], marker='o', color='k')\n",
    "    ax.plot(trajdf.x, trajdf.y, color='gray', alpha=0.5)\n",
    "    im = ax.quiver(x, y, np.real(angvec), np.imag(angvec), color=cmap(norm(sigma)), scale=70, cmap='hsv')\n",
    "    cbar = plt.colorbar(im, ax=ax)\n",
    "    cbar.ax.set_yticks(np.linspace(0, 1, 10))\n",
    "    cbar.ax.set_yticklabels(np.arange(1, 11, 1))\n",
    "    cbar.ax.set_ylabel('Sigma')\n",
    "    ax.set_title('Node = %s'%(nodekey))\n",
    "    fig.tight_layout()\n",
    "    fig.savefig(join(plot_dir_sigma, '%s.png'%nodekey), dpi=200)\n",
    "    plt.close(fig)\n",
    "\n"
   ],
   "metadata": {
    "collapsed": false,
    "ExecuteTime": {
     "end_time": "2023-12-14T12:42:20.782177700Z",
     "start_time": "2023-12-14T12:40:52.706778900Z"
    }
   }
  },
  {
   "cell_type": "code",
   "execution_count": 80,
   "outputs": [
    {
     "data": {
      "text/plain": "array([0. , 0.1, 0.2, 0.3, 0.4, 0.5, 0.6, 0.7, 0.8, 0.9, 1. ])"
     },
     "execution_count": 80,
     "metadata": {},
     "output_type": "execute_result"
    }
   ],
   "source": [
    "np.arange(0, 1.1, 0.1)"
   ],
   "metadata": {
    "collapsed": false,
    "ExecuteTime": {
     "end_time": "2023-12-14T12:39:29.090281100Z",
     "start_time": "2023-12-14T12:39:29.069983300Z"
    }
   }
  }
 ],
 "metadata": {
  "kernelspec": {
   "display_name": "Python 3",
   "language": "python",
   "name": "python3"
  },
  "language_info": {
   "codemirror_mode": {
    "name": "ipython",
    "version": 2
   },
   "file_extension": ".py",
   "mimetype": "text/x-python",
   "name": "python",
   "nbconvert_exporter": "python",
   "pygments_lexer": "ipython2",
   "version": "2.7.6"
  }
 },
 "nbformat": 4,
 "nbformat_minor": 0
}
