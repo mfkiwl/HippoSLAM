{
 "cells": [
  {
   "cell_type": "code",
   "execution_count": 1,
   "metadata": {
    "collapsed": true,
    "ExecuteTime": {
     "start_time": "2024-01-07T16:39:06.213311Z",
     "end_time": "2024-01-07T16:39:07.450577Z"
    }
   },
   "outputs": [],
   "source": [
    "import numpy as np\n",
    "from hipposlam.utils import read_pickle\n",
    "import pandas as pd\n",
    "import matplotlib.pyplot as plt\n",
    "from os.path import join\n",
    "import os\n",
    "import matplotlib as mpl\n",
    "from matplotlib import cm\n",
    "from tqdm import tqdm"
   ]
  },
  {
   "cell_type": "code",
   "execution_count": 4,
   "outputs": [
    {
     "data": {
      "text/plain": "         t         x         y         z         a    imgname\n0      128  4.320020  3.252637  0.061593  0.785398    128.png\n1      256  4.320020  3.175768  0.058121  0.785398    256.png\n2      384  4.320020  3.098910  0.058760  0.785398    384.png\n3      512  4.320020  3.022087  0.059021  0.785398    512.png\n4      640  4.320020  2.945278  0.059127  0.785398    640.png\n..     ...       ...       ...       ...       ...        ...\n551  70656  2.766048 -2.637172  0.070273  0.785398  70656.png\n552  70784  2.814609 -2.590277  0.070594  0.785398  70784.png\n553  70912  2.829869 -2.513782  0.069530  0.785398  70912.png\n554  71040  2.884161 -2.464550  0.063619  0.785398  71040.png\n555  71168  2.959268 -2.432726  0.064303  0.785398  71168.png\n\n[556 rows x 6 columns]",
      "text/html": "<div>\n<style scoped>\n    .dataframe tbody tr th:only-of-type {\n        vertical-align: middle;\n    }\n\n    .dataframe tbody tr th {\n        vertical-align: top;\n    }\n\n    .dataframe thead th {\n        text-align: right;\n    }\n</style>\n<table border=\"1\" class=\"dataframe\">\n  <thead>\n    <tr style=\"text-align: right;\">\n      <th></th>\n      <th>t</th>\n      <th>x</th>\n      <th>y</th>\n      <th>z</th>\n      <th>a</th>\n      <th>imgname</th>\n    </tr>\n  </thead>\n  <tbody>\n    <tr>\n      <th>0</th>\n      <td>128</td>\n      <td>4.320020</td>\n      <td>3.252637</td>\n      <td>0.061593</td>\n      <td>0.785398</td>\n      <td>128.png</td>\n    </tr>\n    <tr>\n      <th>1</th>\n      <td>256</td>\n      <td>4.320020</td>\n      <td>3.175768</td>\n      <td>0.058121</td>\n      <td>0.785398</td>\n      <td>256.png</td>\n    </tr>\n    <tr>\n      <th>2</th>\n      <td>384</td>\n      <td>4.320020</td>\n      <td>3.098910</td>\n      <td>0.058760</td>\n      <td>0.785398</td>\n      <td>384.png</td>\n    </tr>\n    <tr>\n      <th>3</th>\n      <td>512</td>\n      <td>4.320020</td>\n      <td>3.022087</td>\n      <td>0.059021</td>\n      <td>0.785398</td>\n      <td>512.png</td>\n    </tr>\n    <tr>\n      <th>4</th>\n      <td>640</td>\n      <td>4.320020</td>\n      <td>2.945278</td>\n      <td>0.059127</td>\n      <td>0.785398</td>\n      <td>640.png</td>\n    </tr>\n    <tr>\n      <th>...</th>\n      <td>...</td>\n      <td>...</td>\n      <td>...</td>\n      <td>...</td>\n      <td>...</td>\n      <td>...</td>\n    </tr>\n    <tr>\n      <th>551</th>\n      <td>70656</td>\n      <td>2.766048</td>\n      <td>-2.637172</td>\n      <td>0.070273</td>\n      <td>0.785398</td>\n      <td>70656.png</td>\n    </tr>\n    <tr>\n      <th>552</th>\n      <td>70784</td>\n      <td>2.814609</td>\n      <td>-2.590277</td>\n      <td>0.070594</td>\n      <td>0.785398</td>\n      <td>70784.png</td>\n    </tr>\n    <tr>\n      <th>553</th>\n      <td>70912</td>\n      <td>2.829869</td>\n      <td>-2.513782</td>\n      <td>0.069530</td>\n      <td>0.785398</td>\n      <td>70912.png</td>\n    </tr>\n    <tr>\n      <th>554</th>\n      <td>71040</td>\n      <td>2.884161</td>\n      <td>-2.464550</td>\n      <td>0.063619</td>\n      <td>0.785398</td>\n      <td>71040.png</td>\n    </tr>\n    <tr>\n      <th>555</th>\n      <td>71168</td>\n      <td>2.959268</td>\n      <td>-2.432726</td>\n      <td>0.064303</td>\n      <td>0.785398</td>\n      <td>71168.png</td>\n    </tr>\n  </tbody>\n</table>\n<p>556 rows × 6 columns</p>\n</div>"
     },
     "execution_count": 4,
     "metadata": {},
     "output_type": "execute_result"
    }
   ],
   "source": [
    "\n",
    "\n",
    "project_tag = 'Avoidance_Sift'\n",
    "data_dir = join('data', project_tag)\n",
    "plot_dir = join('plots', project_tag, 'firing_fields')\n",
    "os.makedirs(plot_dir, exist_ok=True)\n",
    "trajdata = read_pickle(join(data_dir, 'traj.pickle'))\n",
    "metadata = read_pickle(join(data_dir, 'meta.pickle'))\n",
    "\n",
    "\n",
    "trajdf = pd.DataFrame(trajdata)\n",
    "trajdf\n",
    "\n"
   ],
   "metadata": {
    "collapsed": false,
    "ExecuteTime": {
     "start_time": "2024-01-07T16:39:35.949221Z",
     "end_time": "2024-01-07T16:39:35.971376Z"
    }
   }
  },
  {
   "cell_type": "code",
   "execution_count": null,
   "outputs": [],
   "source": [],
   "metadata": {
    "collapsed": false
   }
  }
 ],
 "metadata": {
  "kernelspec": {
   "display_name": "Python 3",
   "language": "python",
   "name": "python3"
  },
  "language_info": {
   "codemirror_mode": {
    "name": "ipython",
    "version": 2
   },
   "file_extension": ".py",
   "mimetype": "text/x-python",
   "name": "python",
   "nbconvert_exporter": "python",
   "pygments_lexer": "ipython2",
   "version": "2.7.6"
  }
 },
 "nbformat": 4,
 "nbformat_minor": 0
}
