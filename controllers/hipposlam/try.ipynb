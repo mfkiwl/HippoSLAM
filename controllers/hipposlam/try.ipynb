{
 "cells": [
  {
   "cell_type": "code",
   "execution_count": 1,
   "outputs": [],
   "source": [
    "import numpy as np\n",
    "from hipposlam.utils import read_pickle\n",
    "from hipposlam.sequences import Sequences\n",
    "from hipposlam.comput_utils import circular_gau_filter, divide_ignore, midedges, Arena\n",
    "import pandas as pd\n",
    "import matplotlib.pyplot as plt\n",
    "from os.path import join\n",
    "import os\n",
    "import matplotlib as mpl\n",
    "from matplotlib import cm\n",
    "from tqdm import tqdm\n",
    "from scipy.ndimage import gaussian_filter\n",
    "from scipy.special import factorial\n",
    "# Paths and data===============\n",
    "debug_plot_tag = True\n",
    "project_tag = 'Avoidance'\n",
    "data_dir = join('data', project_tag)\n",
    "plot_dir = join('plots', project_tag, 'BayesianDecoding')\n",
    "os.makedirs(plot_dir, exist_ok=True)\n",
    "trajdata = read_pickle(join(data_dir, 'traj.pickle'))\n",
    "metadata = read_pickle(join(data_dir, 'meta.pickle'))\n",
    "metadata['seqR'] = 5 # For now. Remove this line next time after seqR is stored in the metadata\n",
    "metadata['seqL'] = 10 # For now. Remove this line next time after seqL is stored in the metadata\n",
    "seqR = metadata['seqR']\n",
    "seqL = metadata['seqL']\n",
    "fkey2id_dict = metadata['stored_f']\n",
    "id2fkey_dict = {val:key for key, val in fkey2id_dict.items()}\n",
    "f_pos = metadata['fpos']\n",
    "trajdf = pd.DataFrame(trajdata)\n",
    "trajdf['X_Nrow'] = trajdf['X'].apply(lambda x : x.shape[0])\n",
    "trajdf['a'] = trajdf['rota'] * trajdf['rotz']"
   ],
   "metadata": {
    "collapsed": false,
    "ExecuteTime": {
     "start_time": "2024-01-30T23:12:39.100474Z",
     "end_time": "2024-01-30T23:12:45.745901Z"
    }
   }
  },
  {
   "cell_type": "code",
   "execution_count": null,
   "outputs": [],
   "source": [
    "\n",
    "\n",
    "\n",
    "class Learner:\n",
    "    def __init__(self, R, L):\n",
    "        self.K = R + L - 1\n",
    "        self.N = 0\n",
    "        self.J = np.zeros((self.K, self.N))\n",
    "\n",
    "    def learn(self, X):\n",
    "        pass\n",
    "\n",
    "\n",
    "\n",
    "\n",
    "\n",
    "\n"
   ],
   "metadata": {
    "collapsed": false
   }
  },
  {
   "cell_type": "code",
   "execution_count": null,
   "outputs": [],
   "source": [],
   "metadata": {
    "collapsed": false
   }
  }
 ],
 "metadata": {
  "kernelspec": {
   "display_name": "Python 3",
   "language": "python",
   "name": "python3"
  },
  "language_info": {
   "codemirror_mode": {
    "name": "ipython",
    "version": 2
   },
   "file_extension": ".py",
   "mimetype": "text/x-python",
   "name": "python",
   "nbconvert_exporter": "python",
   "pygments_lexer": "ipython2",
   "version": "2.7.6"
  }
 },
 "nbformat": 4,
 "nbformat_minor": 0
}
